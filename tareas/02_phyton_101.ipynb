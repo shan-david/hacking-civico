{
  "nbformat": 4,
  "nbformat_minor": 0,
  "metadata": {
    "colab": {
      "name": "tareas/02-phyton-101.ipynb",
      "provenance": [],
      "authorship_tag": "ABX9TyOseNGTZluztfpG11uEHdqt",
      "include_colab_link": true
    },
    "kernelspec": {
      "name": "python3",
      "display_name": "Python 3"
    }
  },
  "cells": [
    {
      "cell_type": "markdown",
      "metadata": {
        "id": "view-in-github",
        "colab_type": "text"
      },
      "source": [
        "<a href=\"https://colab.research.google.com/github/shan-david/hacking-civico/blob/master/tareas/02_phyton_101.ipynb\" target=\"_parent\"><img src=\"https://colab.research.google.com/assets/colab-badge.svg\" alt=\"Open In Colab\"/></a>"
      ]
    },
    {
      "cell_type": "code",
      "metadata": {
        "id": "8Otz5tkrlVZi",
        "colab_type": "code",
        "colab": {}
      },
      "source": [
        "def densidad_poblacional(poblacion, area):\n",
        "  resultado = poblacion / area\n",
        "  return resultado\n",
        " \n",
        "\n",
        "\n"
      ],
      "execution_count": 14,
      "outputs": []
    },
    {
      "cell_type": "code",
      "metadata": {
        "id": "DCkFlTX4r-tz",
        "colab_type": "code",
        "colab": {
          "base_uri": "https://localhost:8080/",
          "height": 34
        },
        "outputId": "10d2cc90-b1bd-47a6-865a-833309c1df32"
      },
      "source": [
        "mexico = densidad_poblacional(119530753, 1959248)\n",
        "print(mexico)"
      ],
      "execution_count": 15,
      "outputs": [
        {
          "output_type": "stream",
          "text": [
            "61.008485398479415\n"
          ],
          "name": "stdout"
        }
      ]
    },
    {
      "cell_type": "code",
      "metadata": {
        "id": "uXQwljOQtb2Z",
        "colab_type": "code",
        "colab": {
          "base_uri": "https://localhost:8080/",
          "height": 34
        },
        "outputId": "7a419be6-b11d-4ddd-b71b-1a884e2023f8"
      },
      "source": [
        "estado_puebla = densidad_poblacional(6168883, 34251)\n",
        "print(estado_puebla)"
      ],
      "execution_count": 16,
      "outputs": [
        {
          "output_type": "stream",
          "text": [
            "180.1081136317188\n"
          ],
          "name": "stdout"
        }
      ]
    },
    {
      "cell_type": "code",
      "metadata": {
        "id": "xGji3O8ntsw5",
        "colab_type": "code",
        "colab": {
          "base_uri": "https://localhost:8080/",
          "height": 34
        },
        "outputId": "6f9efd55-e29e-4f0d-e0fc-0c45b6320aba"
      },
      "source": [
        "municipio_puebla = densidad_poblacional(1576259, 548)\n",
        "print(municipio_puebla)"
      ],
      "execution_count": 17,
      "outputs": [
        {
          "output_type": "stream",
          "text": [
            "2876.3850364963505\n"
          ],
          "name": "stdout"
        }
      ]
    },
    {
      "cell_type": "code",
      "metadata": {
        "id": "ouhD82VdxMZZ",
        "colab_type": "code",
        "colab": {}
      },
      "source": [
        "# Gasto per capita Cultura y Turismo Puebla\n",
        "\n",
        "def gasto_per_capita(presupuesto, poblacion):\n",
        "  total = presupuesto / poblacion\n",
        "  return total"
      ],
      "execution_count": 27,
      "outputs": []
    },
    {
      "cell_type": "code",
      "metadata": {
        "id": "G3ZbAJ_SxlkB",
        "colab_type": "code",
        "colab": {
          "base_uri": "https://localhost:8080/",
          "height": 34
        },
        "outputId": "4eb00385-add1-40ea-a7a2-519ac8255a06"
      },
      "source": [
        "gasto_2018 = gasto_per_capita ( 481437200, 6168883)\n",
        "print(gasto_2018)"
      ],
      "execution_count": 29,
      "outputs": [
        {
          "output_type": "stream",
          "text": [
            "78.04284827577375\n"
          ],
          "name": "stdout"
        }
      ]
    },
    {
      "cell_type": "code",
      "metadata": {
        "id": "XogigRkJx8I4",
        "colab_type": "code",
        "colab": {
          "base_uri": "https://localhost:8080/",
          "height": 34
        },
        "outputId": "1390b88a-1f82-4ec7-c428-1a61f06c586e"
      },
      "source": [
        "gasto_2019 = gasto_per_capita (384067100, 6168883)\n",
        "print(gasto_2019)"
      ],
      "execution_count": 37,
      "outputs": [
        {
          "output_type": "stream",
          "text": [
            "62.25877521100659\n"
          ],
          "name": "stdout"
        }
      ]
    },
    {
      "cell_type": "code",
      "metadata": {
        "id": "Ii4o0cvjyLdM",
        "colab_type": "code",
        "colab": {
          "base_uri": "https://localhost:8080/",
          "height": 34
        },
        "outputId": "231f65e5-df41-4c5c-dbd1-aff0166410e3"
      },
      "source": [
        "variacion = gasto_2019 - gasto_2018\n",
        "print(variacion * 100 / gasto_2018)"
      ],
      "execution_count": 38,
      "outputs": [
        {
          "output_type": "stream",
          "text": [
            "-20.224880835963653\n"
          ],
          "name": "stdout"
        }
      ]
    }
  ]
}